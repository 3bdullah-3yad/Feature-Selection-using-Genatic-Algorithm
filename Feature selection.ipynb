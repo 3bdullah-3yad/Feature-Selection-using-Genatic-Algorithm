{
 "cells": [
  {
   "cell_type": "markdown",
   "id": "da9aca35",
   "metadata": {},
   "source": [
    "# <span style=\"color:red\">@@@@@@@@@@@@ Ayad @@@@@@@@@@@@</span>"
   ]
  },
  {
   "cell_type": "code",
   "execution_count": 1,
   "id": "9eb480a6",
   "metadata": {},
   "outputs": [],
   "source": [
    "import warnings\n",
    "warnings.filterwarnings(\"ignore\")"
   ]
  },
  {
   "cell_type": "code",
   "execution_count": 3,
   "id": "c949be14",
   "metadata": {},
   "outputs": [],
   "source": [
    "from sklearn.datasets import load_breast_cancer\n",
    "import pandas as pd"
   ]
  },
  {
   "cell_type": "code",
   "execution_count": 4,
   "id": "708aed5c",
   "metadata": {},
   "outputs": [],
   "source": [
    "cancer=load_breast_cancer()\n",
    "\n",
    "df   = pd.DataFrame(cancer['data'],columns=cancer['feature_names'])\n",
    "label= cancer[\"target\"]"
   ]
  },
  {
   "cell_type": "code",
   "execution_count": 6,
   "id": "7e546f54",
   "metadata": {},
   "outputs": [
    {
     "name": "stdout",
     "output_type": "stream",
     "text": [
      "(569, 30)\n"
     ]
    },
    {
     "data": {
      "text/plain": [
       "(569,)"
      ]
     },
     "execution_count": 6,
     "metadata": {},
     "output_type": "execute_result"
    }
   ],
   "source": [
    "print(df.shape)\n",
    "label.shape"
   ]
  },
  {
   "cell_type": "code",
   "execution_count": 7,
   "id": "cbc90c20",
   "metadata": {},
   "outputs": [],
   "source": [
    "from sklearn.model_selection import train_test_split"
   ]
  },
  {
   "cell_type": "code",
   "execution_count": 8,
   "id": "28442fb6",
   "metadata": {},
   "outputs": [],
   "source": [
    "X_train, X_test, y_train, y_test = train_test_split(df, label,\n",
    "                                                    test_size=0.30, \n",
    "                                                    random_state=33)\n"
   ]
  },
  {
   "cell_type": "code",
   "execution_count": 14,
   "id": "52832287",
   "metadata": {},
   "outputs": [],
   "source": [
    "from sklearn.linear_model import LogisticRegression\n",
    "from sklearn.metrics import accuracy_score"
   ]
  },
  {
   "cell_type": "code",
   "execution_count": 19,
   "id": "dc92cddc",
   "metadata": {},
   "outputs": [
    {
     "name": "stdout",
     "output_type": "stream",
     "text": [
      "Accuracy: 0.9473684210526315\n"
     ]
    }
   ],
   "source": [
    "logit = LogisticRegression()\n",
    "logit.fit(X_train,y_train)\n",
    "\n",
    "predictions = logit.predict(X_test)\n",
    "\n",
    "print(f\"Accuracy: {accuracy_score(y_test, predictions)}\")"
   ]
  },
  {
   "cell_type": "code",
   "execution_count": 18,
   "id": "f4fdb7f6",
   "metadata": {},
   "outputs": [],
   "source": [
    "import numpy as np"
   ]
  },
  {
   "cell_type": "code",
   "execution_count": 16,
   "id": "94fd767b",
   "metadata": {},
   "outputs": [],
   "source": [
    "def initilization_of_population(size,n_feat):\n",
    "    population = []\n",
    "    for i in range(size):\n",
    "        chromosome = np.ones(n_feat,dtype=np.bool)\n",
    "        chromosome[:int(0.3*n_feat)]=False\n",
    "        np.random.shuffle(chromosome)\n",
    "        population.append(chromosome)\n",
    "    return population"
   ]
  },
  {
   "cell_type": "code",
   "execution_count": 20,
   "id": "902f2dd9",
   "metadata": {},
   "outputs": [],
   "source": [
    "def fitness_score(population):\n",
    "    scores = []\n",
    "    for chromosome in population:\n",
    "        logit.fit(X_train.iloc[:,chromosome],y_train)\n",
    "        predictions = logit.predict(X_test.iloc[:,chromosome])\n",
    "        scores.append(accuracy_score(y_test,predictions))\n",
    "    scores, population = np.array(scores), np.array(population) \n",
    "    inds = np.argsort(scores)\n",
    "    return list(scores[inds][::-1]), list(population[inds,:][::-1])\n"
   ]
  },
  {
   "cell_type": "code",
   "execution_count": 21,
   "id": "fbe42df5",
   "metadata": {},
   "outputs": [],
   "source": [
    "def selection(pop_after_fit,n_parents):\n",
    "    population_nextgen = []\n",
    "    for i in range(n_parents):\n",
    "        population_nextgen.append(pop_after_fit[i])\n",
    "    return population_nextgen"
   ]
  },
  {
   "cell_type": "code",
   "execution_count": null,
   "id": "b3dcd660",
   "metadata": {},
   "outputs": [],
   "source": []
  },
  {
   "cell_type": "code",
   "execution_count": 22,
   "id": "57e0087d",
   "metadata": {},
   "outputs": [],
   "source": [
    "def crossover(pop_after_sel):\n",
    "    population_nextgen=pop_after_sel\n",
    "    for i in range(len(pop_after_sel)):\n",
    "        child=pop_after_sel[i]\n",
    "        child[3:7]=pop_after_sel[(i+1)%len(pop_after_sel)][3:7]\n",
    "        population_nextgen.append(child)\n",
    "    return population_nextgen"
   ]
  },
  {
   "cell_type": "code",
   "execution_count": 23,
   "id": "41bf8f04",
   "metadata": {},
   "outputs": [],
   "source": [
    "def mutation(pop_after_cross,mutation_rate):\n",
    "    population_nextgen = []\n",
    "    for i in range(len(pop_after_cross)):\n",
    "        chromosome = pop_after_cross[i]\n",
    "        for j in range(len(chromosome)):\n",
    "            if random.random() < mutation_rate:\n",
    "                chromosome[j]= not chromosome[j]\n",
    "        population_nextgen.append(chromosome)\n",
    "    return population_nextgen"
   ]
  },
  {
   "cell_type": "code",
   "execution_count": 24,
   "id": "67f51152",
   "metadata": {},
   "outputs": [],
   "source": [
    "def generations(size,n_feat,n_parents,mutation_rate,n_gen,X_train,\n",
    "                                   X_test, y_train, y_test):\n",
    "    best_chromo= []\n",
    "    best_score= []\n",
    "    population_nextgen=initilization_of_population(size,n_feat)\n",
    "    for i in range(n_gen):\n",
    "        scores, pop_after_fit = fitness_score(population_nextgen)\n",
    "        print(scores[:2])\n",
    "        pop_after_sel = selection(pop_after_fit,n_parents)\n",
    "        pop_after_cross = crossover(pop_after_sel)\n",
    "        population_nextgen = mutation(pop_after_cross,mutation_rate)\n",
    "        best_chromo.append(pop_after_fit[0])\n",
    "        best_score.append(scores[0])\n",
    "    return best_chromo,best_score"
   ]
  },
  {
   "cell_type": "code",
   "execution_count": 27,
   "id": "34c60130",
   "metadata": {},
   "outputs": [],
   "source": [
    "import time\n",
    "import random"
   ]
  },
  {
   "cell_type": "code",
   "execution_count": 31,
   "id": "e999b90c",
   "metadata": {},
   "outputs": [
    {
     "name": "stdout",
     "output_type": "stream",
     "text": [
      "[0.9766081871345029, 0.9707602339181286]\n",
      "[0.9766081871345029, 0.9766081871345029]\n",
      "[0.9707602339181286, 0.9707602339181286]\n",
      "[0.9707602339181286, 0.9707602339181286]\n",
      "[0.9707602339181286, 0.9707602339181286]\n",
      "[0.9707602339181286, 0.9707602339181286]\n",
      "[0.9707602339181286, 0.9707602339181286]\n",
      "[0.9707602339181286, 0.9707602339181286]\n",
      "[0.9707602339181286, 0.9707602339181286]\n",
      "[0.9707602339181286, 0.9707602339181286]\n",
      "[0.9707602339181286, 0.9707602339181286]\n",
      "[0.9766081871345029, 0.9766081871345029]\n",
      "[0.9707602339181286, 0.9707602339181286]\n",
      "[0.9707602339181286, 0.9707602339181286]\n",
      "[0.9707602339181286, 0.9707602339181286]\n",
      "[0.9707602339181286, 0.9707602339181286]\n",
      "[0.9707602339181286, 0.9707602339181286]\n",
      "[0.9707602339181286, 0.9707602339181286]\n",
      "[0.9707602339181286, 0.9707602339181286]\n",
      "[0.9766081871345029, 0.9766081871345029]\n",
      "[0.9707602339181286, 0.9707602339181286]\n",
      "[0.9766081871345029, 0.9766081871345029]\n",
      "[0.9707602339181286, 0.9707602339181286]\n",
      "[0.9707602339181286, 0.9707602339181286]\n",
      "[0.9707602339181286, 0.9707602339181286]\n",
      "[0.9707602339181286, 0.9707602339181286]\n",
      "[0.9707602339181286, 0.9707602339181286]\n",
      "[0.9707602339181286, 0.9707602339181286]\n",
      "[0.9707602339181286, 0.9707602339181286]\n",
      "[0.9707602339181286, 0.9707602339181286]\n",
      "[0.9707602339181286, 0.9707602339181286]\n",
      "[0.9707602339181286, 0.9707602339181286]\n",
      "[0.9707602339181286, 0.9707602339181286]\n",
      "[0.9824561403508771, 0.9824561403508771]\n",
      "[0.9707602339181286, 0.9707602339181286]\n",
      "[0.9707602339181286, 0.9707602339181286]\n",
      "[0.9707602339181286, 0.9707602339181286]\n",
      "[0.9707602339181286, 0.9707602339181286]\n",
      "\n",
      "\n",
      "Duration:  3.8518327196439106 \n",
      "\n",
      "\n"
     ]
    }
   ],
   "source": [
    "tic = time.time()\n",
    "\n",
    "chromo,score=generations(size=200, n_feat=30, n_parents=100, mutation_rate=0.10,\n",
    "                         n_gen=38, X_train=X_train, \n",
    "                         X_test=X_test, y_train=y_train, y_test=y_test)\n",
    "\n",
    "toc = time.time()\n",
    "\n",
    "\n",
    "print('\\n\\nDuration: ',(toc-tic)/60, '\\n\\n')"
   ]
  },
  {
   "cell_type": "code",
   "execution_count": 32,
   "id": "d91749ca",
   "metadata": {},
   "outputs": [],
   "source": [
    "logit.fit(X_train.iloc[:,chromo[-1]], y_train)\n",
    "\n",
    "predictions = logit.predict(X_test.iloc[:, chromo[-1]])"
   ]
  },
  {
   "cell_type": "code",
   "execution_count": 33,
   "id": "9a152306",
   "metadata": {},
   "outputs": [
    {
     "name": "stdout",
     "output_type": "stream",
     "text": [
      "Accuracy score after genetic algorithm is: 0.9707602339181286\n"
     ]
    }
   ],
   "source": [
    "print(f\"Accuracy score after genetic algorithm is: {accuracy_score(y_test,predictions)}\")"
   ]
  },
  {
   "cell_type": "markdown",
   "id": "def97d23",
   "metadata": {},
   "source": [
    "# <span style=\"color:red\">@@@@@@@@@@@@ Ayad @@@@@@@@@@@@</span>"
   ]
  }
 ],
 "metadata": {
  "kernelspec": {
   "display_name": "Python 3 (ipykernel)",
   "language": "python",
   "name": "python3"
  },
  "language_info": {
   "codemirror_mode": {
    "name": "ipython",
    "version": 3
   },
   "file_extension": ".py",
   "mimetype": "text/x-python",
   "name": "python",
   "nbconvert_exporter": "python",
   "pygments_lexer": "ipython3",
   "version": "3.9.7"
  }
 },
 "nbformat": 4,
 "nbformat_minor": 5
}
